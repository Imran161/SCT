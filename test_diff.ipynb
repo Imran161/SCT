{
 "cells": [
  {
   "cell_type": "code",
   "execution_count": null,
   "metadata": {},
   "outputs": [],
   "source": [
    "import segmentation_models_pytorch as smp\n",
    "import torch\n",
    "import os \n",
    "import random\n",
    "import numpy as np \n",
    "import torch\n",
    "# from utils import set_seed\n",
    "import matplotlib.pyplot as plt\n",
    "\n",
    "\n",
    "def set_seed(seed):\n",
    "    random.seed(seed)\n",
    "    os.environ['PYTHONHASHSEED'] = str(seed)\n",
    "    np.random.seed(seed)\n",
    "    torch.manual_seed(seed)\n",
    "    torch.cuda.manual_seed(seed)\n",
    "    torch.cuda.manual_seed_all(seed)\n",
    "    torch.backends.cudnn.deterministic = True\n",
    "    torch.backends.cudnn.benchmark = False\n",
    "    torch.backends.cudnn.enabled = False\n",
    "\n",
    "set_seed(0)\n",
    "\n",
    "\n"
   ]
  },
  {
   "cell_type": "code",
   "execution_count": null,
   "metadata": {},
   "outputs": [],
   "source": [
    "device = \"cuda:0\"\n",
    "net = smp.FPN(encoder_name=\"efficientnet-b7\",\n",
    "              in_channels=1+2,\n",
    "              encoder_weights = \"imagenet\",\n",
    "              classes = 2)\n",
    "net.load_state_dict(torch.load('best_diffusion_model.pth'))\n",
    "net.to(device)\n",
    "net.eval()\n",
    "inp = torch.zeros((1, 3, 256, 256), dtype = torch.float).to(device)\n",
    "z = (inp[:,1:, :, :] - torch.tanh(net(inp))+1).mean()\n",
    "x = net(inp).mean()\n",
    "y = torch.tanh(net(inp)).mean()\n",
    "print(x, y)\n",
    "print(\"z\", z)"
   ]
  }
 ],
 "metadata": {
  "language_info": {
   "name": "python"
  }
 },
 "nbformat": 4,
 "nbformat_minor": 2
}
